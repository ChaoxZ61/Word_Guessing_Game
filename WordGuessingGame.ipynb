{
 "cells": [
  {
   "cell_type": "code",
   "execution_count": 1,
   "id": "5fa6806a-04a7-4680-a519-d167f90475e7",
   "metadata": {},
   "outputs": [],
   "source": [
    "import random\n",
    "#read the text file\n",
    "#the txt file needs to be stored in the same directory as the jupyter notebook file, otherwise use the exact location for the txt file.\n",
    "with open(\"words_alpha.txt\", \"r\") as wordDict:\n",
    "    allWords = wordDict.read()\n",
    "    global words\n",
    "    words = list(map(str, allWords.split('\\n')))"
   ]
  },
  {
   "cell_type": "code",
   "execution_count": 2,
   "id": "0cfe9464-d700-49b0-9e27-5ec4f28bba69",
   "metadata": {},
   "outputs": [],
   "source": [
    "def word_guess():\n",
    "    #Record Number of wins and losses \n",
    "    win = 0\n",
    "    loss = 0\n",
    "    wordsGuessed = []\n",
    "    while True:\n",
    "        word = random.choice(words)\n",
    "        if word in wordsGuessed:\n",
    "            print(f'The word {word} is guessed before, a new word has been generated')\n",
    "            continue\n",
    "        wordsGuessed.append(word)\n",
    "        count = 0\n",
    "        display = \"_\" * len(word)\n",
    "        guessedList = []\n",
    "        while True:\n",
    "            guess = input(\"Please enter the letter of your guess: \")\n",
    "            #check if the guessing is alphabetical\n",
    "            if guess.isalpha() is False:\n",
    "                print(\"Please enter a letter or a word!\")\n",
    "                continue\n",
    "            #check whether the guess is taken already\n",
    "            if guess in guessedList:\n",
    "                print(\"You have guessed the letter/word already, please try again!\")\n",
    "                continue\n",
    "            #add new guess into guess history\n",
    "            guessedList.append(guess)\n",
    "            if guess in word:\n",
    "                pos = [i for i in range(len(word)) if word.startswith(guess,i)] # Return position of all occurances of guessed string\n",
    "                for i in pos:\n",
    "                    display = display[:i] + guess + display[i+len(guess):]\n",
    "                print(display)\n",
    "                if \"_\"  not in display:\n",
    "                    print(\"You guessed word correctly, you win!\")\n",
    "                    win += 1\n",
    "                    break\n",
    "            else:\n",
    "                count += 1\n",
    "                if count == 7:\n",
    "                    print(f'You have guessed wrong 7 times, you lose! The correct word is {word}.')\n",
    "                    loss +=1\n",
    "                    break\n",
    "                print(f'The letter/word you guessed is not in the word, you have {7-count} times remaining. The word looks like {display}, please try again!')\n",
    "        #Check is the user want to continue\n",
    "        while True:\n",
    "            #assign the variable globally so it can be used outside of the while loop\n",
    "            global wantContinue\n",
    "            wantContinue = input(f'You have {win} wins and {loss} loses, do you want to continue? (Y/N)')\n",
    "            if (wantContinue != 'Y' and wantContinue != 'N'):\n",
    "                print(\"In valid input, please try again!\")\n",
    "            else: break\n",
    "        if wantContinue == 'N': break            "
   ]
  },
  {
   "cell_type": "code",
   "execution_count": null,
   "id": "49f56ad0-173e-4046-9732-d8a032f3666d",
   "metadata": {},
   "outputs": [],
   "source": [
    "word_guess()"
   ]
  },
  {
   "cell_type": "code",
   "execution_count": null,
   "id": "0c7a66df-5bd2-4056-b362-e8f37f9cd2a5",
   "metadata": {},
   "outputs": [],
   "source": []
  }
 ],
 "metadata": {
  "kernelspec": {
   "display_name": "Python 3 (ipykernel)",
   "language": "python",
   "name": "python3"
  },
  "language_info": {
   "codemirror_mode": {
    "name": "ipython",
    "version": 3
   },
   "file_extension": ".py",
   "mimetype": "text/x-python",
   "name": "python",
   "nbconvert_exporter": "python",
   "pygments_lexer": "ipython3",
   "version": "3.9.12"
  }
 },
 "nbformat": 4,
 "nbformat_minor": 5
}
